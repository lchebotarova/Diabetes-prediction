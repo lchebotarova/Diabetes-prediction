{
 "cells": [
  {
   "cell_type": "markdown",
   "id": "ca9e7194",
   "metadata": {},
   "source": [
    "# Data Preparation and Cleaning for Health Indicators Dataset\n",
    "\n",
    "This notebook covers the data preparation and cleaning steps for the health indicators dataset.\n",
    "The main objectives are to handle missing values, identify outliers, convert data types as needed,\n",
    "and perform necessary transformations to make the data ready for analysis or model building.\n"
   ]
  },
  {
   "cell_type": "markdown",
   "id": "0b09f290",
   "metadata": {},
   "source": [
    "## 1. Data Overview\n",
    "\n",
    "We'll start by loading the data and performing an initial examination to understand its structure.\n"
   ]
  },
  {
   "cell_type": "code",
   "execution_count": null,
   "id": "ac7df206",
   "metadata": {},
   "outputs": [],
   "source": [
    "import pandas as pd\n",
    "\n",
    "# Load the dataset\n",
    "data = pd.read_csv('diabetes_binary_health_indicators_BRFSS2021.csv')\n",
    "\n",
    "# Display basic information and statistics\n",
    "data.info()\n",
    "data.describe()"
   ]
  },
  {
   "cell_type": "markdown",
   "id": "f9e1f0bc",
   "metadata": {},
   "source": [
    "## 2. Handling Missing Values\n",
    "\n",
    "We'll check for any missing values in the dataset and decide on appropriate strategies to handle them.\n"
   ]
  },
  {
   "cell_type": "code",
   "execution_count": null,
   "id": "0b820b16",
   "metadata": {},
   "outputs": [],
   "source": [
    "# Check for missing values\n",
    "missing_values = data.isnull().sum()\n",
    "missing_values[missing_values > 0]"
   ]
  },
  {
   "cell_type": "markdown",
   "id": "1f36433e",
   "metadata": {},
   "source": [
    "## 3. Data Type Conversion\n",
    "\n",
    "After examining the dataset, we'll ensure each column has an appropriate data type (e.g., converting binary columns to integers if needed).\n"
   ]
  },
  {
   "cell_type": "code",
   "execution_count": null,
   "id": "595cef0a",
   "metadata": {},
   "outputs": [],
   "source": [
    "# Convert data types if necessary\n",
    "# Example: Ensure binary columns are integers for consistency\n",
    "data = data.astype({col: 'int64' for col in data.select_dtypes(include='float64').columns})\n",
    "data.dtypes"
   ]
  },
  {
   "cell_type": "markdown",
   "id": "87de4704",
   "metadata": {},
   "source": [
    "## 4. Outlier Detection and Handling\n",
    "\n",
    "We will perform basic outlier detection for numerical variables and decide whether any action is necessary.\n"
   ]
  },
  {
   "cell_type": "code",
   "execution_count": null,
   "id": "c97ce47a",
   "metadata": {},
   "outputs": [],
   "source": [
    "# Outlier detection using basic statistics\n",
    "import numpy as np\n",
    "\n",
    "# Example: Outliers in BMI\n",
    "data.boxplot(column=['BMI'])\n",
    "# Calculate and print any outliers in BMI\n",
    "q1 = data['BMI'].quantile(0.25)\n",
    "q3 = data['BMI'].quantile(0.75)\n",
    "iqr = q3 - q1\n",
    "outliers = data[(data['BMI'] < (q1 - 1.5 * iqr)) | (data['BMI'] > (q3 + 1.5 * iqr))]\n",
    "outliers"
   ]
  },
  {
   "cell_type": "markdown",
   "id": "d62b9870",
   "metadata": {},
   "source": [
    "## 5. Feature Engineering\n",
    "\n",
    "Based on the dataset and context, we may create new features from existing ones to enhance the information available for analysis.\n"
   ]
  },
  {
   "cell_type": "code",
   "execution_count": null,
   "id": "a818f485",
   "metadata": {},
   "outputs": [],
   "source": [
    "# Feature engineering example\n",
    "# Example: Creating an 'Obesity' feature based on BMI threshold\n",
    "\n",
    "# Define obesity threshold\n",
    "obesity_threshold = 30\n",
    "data['Obesity'] = (data['BMI'] >= obesity_threshold).astype(int)\n",
    "data[['BMI', 'Obesity']].head()"
   ]
  },
  {
   "cell_type": "markdown",
   "id": "c947c6c8",
   "metadata": {},
   "source": [
    "## 6. Normalization and Scaling\n",
    "\n",
    "For numerical features, we may apply normalization or scaling to standardize the range of values.\n"
   ]
  },
  {
   "cell_type": "code",
   "execution_count": null,
   "id": "e07ef76f",
   "metadata": {},
   "outputs": [],
   "source": [
    "# Normalize BMI\n",
    "from sklearn.preprocessing import MinMaxScaler\n",
    "\n",
    "scaler = MinMaxScaler()\n",
    "data['BMI_normalized'] = scaler.fit_transform(data[['BMI']])\n",
    "data[['BMI', 'BMI_normalized']].head()"
   ]
  }
 ],
 "metadata": {},
 "nbformat": 4,
 "nbformat_minor": 5
}
